{
 "cells": [
  {
   "cell_type": "code",
   "execution_count": 1,
   "metadata": {
    "colab": {
     "base_uri": "https://localhost:8080/"
    },
    "id": "-8eFW_wl1n39",
    "outputId": "a51f4c14-35b6-4fad-c9eb-9287435a0609"
   },
   "outputs": [
    {
     "name": "stdout",
     "output_type": "stream",
     "text": [
      "\r",
      "0% [Working]\r",
      "            \r",
      "Get:1 https://cloud.r-project.org/bin/linux/ubuntu bionic-cran40/ InRelease [3,626 B]\n",
      "Ign:2 https://developer.download.nvidia.com/compute/cuda/repos/ubuntu1804/x86_64  InRelease\n",
      "Ign:3 https://developer.download.nvidia.com/compute/machine-learning/repos/ubuntu1804/x86_64  InRelease\n",
      "Get:4 https://developer.download.nvidia.com/compute/cuda/repos/ubuntu1804/x86_64  Release [696 B]\n",
      "Hit:5 https://developer.download.nvidia.com/compute/machine-learning/repos/ubuntu1804/x86_64  Release\n",
      "Get:6 https://developer.download.nvidia.com/compute/cuda/repos/ubuntu1804/x86_64  Release.gpg [836 B]\n",
      "Get:7 http://security.ubuntu.com/ubuntu bionic-security InRelease [88.7 kB]\n",
      "Get:8 http://ppa.launchpad.net/c2d4u.team/c2d4u4.0+/ubuntu bionic InRelease [15.9 kB]\n",
      "Hit:9 http://archive.ubuntu.com/ubuntu bionic InRelease\n",
      "Get:10 http://archive.ubuntu.com/ubuntu bionic-updates InRelease [88.7 kB]\n",
      "Hit:11 http://ppa.launchpad.net/cran/libgit2/ubuntu bionic InRelease\n",
      "Hit:12 http://ppa.launchpad.net/deadsnakes/ppa/ubuntu bionic InRelease\n",
      "Get:14 http://archive.ubuntu.com/ubuntu bionic-backports InRelease [74.6 kB]\n",
      "Get:15 http://ppa.launchpad.net/graphics-drivers/ppa/ubuntu bionic InRelease [21.3 kB]\n",
      "Get:16 https://developer.download.nvidia.com/compute/cuda/repos/ubuntu1804/x86_64  Packages [930 kB]\n",
      "Get:17 http://security.ubuntu.com/ubuntu bionic-security/restricted amd64 Packages [806 kB]\n",
      "Get:18 http://security.ubuntu.com/ubuntu bionic-security/universe amd64 Packages [1,474 kB]\n",
      "Get:19 http://security.ubuntu.com/ubuntu bionic-security/main amd64 Packages [2,596 kB]\n",
      "Get:20 http://ppa.launchpad.net/c2d4u.team/c2d4u4.0+/ubuntu bionic/main Sources [1,827 kB]\n",
      "Get:21 http://archive.ubuntu.com/ubuntu bionic-updates/main amd64 Packages [3,035 kB]\n",
      "Get:22 http://archive.ubuntu.com/ubuntu bionic-updates/restricted amd64 Packages [840 kB]\n",
      "Get:23 http://ppa.launchpad.net/c2d4u.team/c2d4u4.0+/ubuntu bionic/main amd64 Packages [937 kB]\n",
      "Get:24 http://archive.ubuntu.com/ubuntu bionic-updates/universe amd64 Packages [2,252 kB]\n",
      "Get:25 http://ppa.launchpad.net/graphics-drivers/ppa/ubuntu bionic/main amd64 Packages [42.8 kB]\n",
      "Fetched 15.0 MB in 7s (2,087 kB/s)\n",
      "Reading package lists... Done\n"
     ]
    }
   ],
   "source": [
    "import os\n",
    "# Find the latest version of spark 3.0  from http://www.apache.org/dist/spark/ and enter as the spark version\n",
    "# For example:\n",
    "# spark_version = 'spark-3.0.3'\n",
    "spark_version = 'spark-3.2.1'\n",
    "os.environ['SPARK_VERSION']=spark_version\n",
    "\n",
    "# Install Spark and Java\n",
    "!apt-get update\n",
    "!apt-get install openjdk-8-jdk-headless -qq > /dev/null\n",
    "!wget -q http://www.apache.org/dist/spark/$SPARK_VERSION/$SPARK_VERSION-bin-hadoop2.7.tgz\n",
    "!tar xf $SPARK_VERSION-bin-hadoop2.7.tgz\n",
    "!pip install -q findspark\n",
    "\n",
    "# Set Environment Variables\n",
    "os.environ[\"JAVA_HOME\"] = \"/usr/lib/jvm/java-8-openjdk-amd64\"\n",
    "os.environ[\"SPARK_HOME\"] = f\"/content/{spark_version}-bin-hadoop2.7\"\n",
    "\n",
    "# Start a SparkSession\n",
    "import findspark\n",
    "findspark.init()"
   ]
  },
  {
   "cell_type": "code",
   "execution_count": 2,
   "metadata": {
    "colab": {
     "base_uri": "https://localhost:8080/"
    },
    "id": "V--1jMdOVUXx",
    "outputId": "87afaa9d-8fcf-4024-cce7-dc0d967196f2"
   },
   "outputs": [
    {
     "name": "stdout",
     "output_type": "stream",
     "text": [
      "--2022-02-26 02:45:44--  https://jdbc.postgresql.org/download/postgresql-42.2.9.jar\n",
      "Resolving jdbc.postgresql.org (jdbc.postgresql.org)... 72.32.157.228, 2001:4800:3e1:1::228\n",
      "Connecting to jdbc.postgresql.org (jdbc.postgresql.org)|72.32.157.228|:443... connected.\n",
      "HTTP request sent, awaiting response... 200 OK\n",
      "Length: 914037 (893K) [application/java-archive]\n",
      "Saving to: ‘postgresql-42.2.9.jar’\n",
      "\n",
      "postgresql-42.2.9.j 100%[===================>] 892.61K  4.49MB/s    in 0.2s    \n",
      "\n",
      "2022-02-26 02:45:45 (4.49 MB/s) - ‘postgresql-42.2.9.jar’ saved [914037/914037]\n",
      "\n"
     ]
    }
   ],
   "source": [
    "!wget https://jdbc.postgresql.org/download/postgresql-42.2.9.jar"
   ]
  },
  {
   "cell_type": "code",
   "execution_count": 3,
   "metadata": {
    "id": "WaQhiGI6VfO5"
   },
   "outputs": [],
   "source": [
    "from pyspark.sql import SparkSession\n",
    "spark = SparkSession.builder.appName(\"BigData-HW-2\").config(\"spark.driver.extraClassPath\",\"/content/postgresql-42.2.9.jar\").getOrCreate()"
   ]
  },
  {
   "cell_type": "markdown",
   "metadata": {
    "id": "0HzqF7ZOVqBR"
   },
   "source": [
    "**Load Amazon Data into Spark DataFrame**"
   ]
  },
  {
   "cell_type": "code",
   "execution_count": 4,
   "metadata": {
    "colab": {
     "base_uri": "https://localhost:8080/"
    },
    "id": "nHRIxm1OVxYu",
    "outputId": "c4ed6069-820e-444a-8011-05c47266282a"
   },
   "outputs": [
    {
     "name": "stdout",
     "output_type": "stream",
     "text": [
      "+-----------+-----------+--------------+----------+--------------+--------------------+----------------+-----------+-------------+-----------+----+-----------------+--------------------+--------------------+-----------+\n",
      "|marketplace|customer_id|     review_id|product_id|product_parent|       product_title|product_category|star_rating|helpful_votes|total_votes|vine|verified_purchase|     review_headline|         review_body|review_date|\n",
      "+-----------+-----------+--------------+----------+--------------+--------------------+----------------+-----------+-------------+-----------+----+-----------------+--------------------+--------------------+-----------+\n",
      "|         US|   10140119|R3LI5TRP3YIDQL|B00TXH4OLC|     384427924|Whatever's for Us...|           Music|          5|            0|          0|   N|                Y|          Five Stars|Love this CD alon...| 2015-08-31|\n",
      "|         US|   27664622|R3LGC3EKEG84PX|B00B6QXN6U|     831769051|Same Trailer Diff...|           Music|          5|            0|          0|   N|                Y|A new fave in our...|This is the album...| 2015-08-31|\n",
      "|         US|   45946560| R9PYL3OYH55QY|B001GCZXW6|      14067376| Soaring (Jazz Club)|           Music|          5|            0|          1|   N|                Y|          Five Stars|  Excellent / thanks| 2015-08-31|\n",
      "|         US|   15146326|R3PWBAWUS4NT0Q|B000003EK6|     566295619|     CARIBBEAN PARTY|           Music|          3|            0|          0|   N|                Y|         Three Stars|Nice variety of c...| 2015-08-31|\n",
      "|         US|   16794688|R15LYP3O51UU9E|B00N1F0BKK|     210426072|         Pain Killer|           Music|          5|            0|          0|   N|                Y|          Five Stars|Purchased as a gi...| 2015-08-31|\n",
      "|         US|   32203364|R1AD7L0CC3DSRI|B00V7KAO7Q|     360249504|A Thoughtiverse U...|           Music|          5|            0|          0|   N|                Y|Definitely worth ...|Really enjoyed th...| 2015-08-31|\n",
      "|         US|    1194276|R32FE8Y45QV434|B000094Q4P|      20972283|Comfort of Her Wings|           Music|          5|            0|          0|   N|                Y|          Five Stars|            Great CD| 2015-08-31|\n",
      "|         US|   45813052|R3NM4MZ4XWL43Q|B00JMK0P1I|     378049560|Sleep Soundly CD ...|           Music|          5|            1|          2|   N|                Y|          Five Stars|       Excellent CD!| 2015-08-31|\n",
      "|         US|   12795687|R3H4FXX6Q7I37D|B008OW1S3O|     141620702|     An Awesome Wave|           Music|          4|            0|          0|   N|                Y|          Four Stars|                nice| 2015-08-31|\n",
      "|         US|   36673840|R30L5PET7LFFDC|B00VI2L3L4|     920557135|          Blurryface|           Music|          5|            1|          1|   N|                Y|        Outstanding!|Outstanding music...| 2015-08-31|\n",
      "|         US|   49453576|  REFRE1LEKLAF|B0000041EV|     683128964|Mozart For Mother...|           Music|          4|            1|          1|   N|                Y|          Four Stars|      quite relaxing| 2015-08-31|\n",
      "|         US|    3285047|R3JTJ5EQN74E9H|B00005YW4H|     268461622|   Come Away with Me|           Music|          5|            0|          0|   N|                Y|          Five Stars|I love this CD.  ...| 2015-08-31|\n",
      "|         US|   24471201|R1W2F091LCOAW5|B00Q9KEZV0|     444090572| Tomorrow Is My Turn|           Music|          5|            0|          0|   N|                Y|FIve Stars and Th...|Rhiannon Giddens ...| 2015-08-31|\n",
      "|         US|   28049396| RYUMFQRRB1FNM|B00GFXRKHW|     482597726|       The Outsiders|           Music|          3|            0|          0|   N|                Y|         Three Stars|Wrecking Ball is ...| 2015-08-31|\n",
      "|         US|   41137196| RHCS6VVXWV3Q3|B004L3AQ10|     609457123|  The Lincoln Lawyer|           Music|          5|            0|          0|   N|                Y|          Five Stars|I was pleased wit...| 2015-08-31|\n",
      "|         US|   43305401|R35UL1YZ2142SL|B0000025PM|     125399885|Bach: Goldberg Va...|           Music|          5|            0|          0|   N|                Y|   The Creative Flow|The music that in...| 2015-08-31|\n",
      "|         US|   50808489|  RU1O6QD1LEBB|B00701QUN8|     144457491|Quiet Riot - Grea...|           Music|          5|            0|          0|   N|                Y|          Five Stars|   Excellent CD&#62;| 2015-08-31|\n",
      "|         US|   15536614|R36RXVL3XIZFH7|B003UJC2QI|     207971309|Love Or Money/Lov...|           Music|          5|            0|          0|   N|                N|    Great Pop Single|Love Or Money by ...| 2015-08-31|\n",
      "|         US|   32536909|R16O7SHYHLEYA1|B00LGA16J2|     760666287|Jonas Kaufmann - ...|           Music|          5|            0|          0|   N|                Y|          Five Stars|      Just splendid!| 2015-08-31|\n",
      "|         US|   51160312|R1Y5GX65Z2V9BG|B00ZGVMLLE|      37408836|        Clockworking|           Music|          5|            0|          0|   N|                N|Glorious Glorious...|One of my favorit...| 2015-08-31|\n",
      "+-----------+-----------+--------------+----------+--------------+--------------------+----------------+-----------+-------------+-----------+----+-----------------+--------------------+--------------------+-----------+\n",
      "only showing top 20 rows\n",
      "\n"
     ]
    }
   ],
   "source": [
    "from pyspark import SparkFiles\n",
    "url = \"https://s3.amazonaws.com/amazon-reviews-pds/tsv/amazon_reviews_us_Music_v1_00.tsv.gz\"\n",
    "spark.sparkContext.addFile(url)\n",
    "music_df = spark.read.csv(SparkFiles.get(\"amazon_reviews_us_Music_v1_00.tsv.gz\"), sep=\"\\t\", header=True, inferSchema=True)\n",
    "music_df.show()"
   ]
  },
  {
   "cell_type": "code",
   "execution_count": 5,
   "metadata": {
    "colab": {
     "base_uri": "https://localhost:8080/"
    },
    "id": "uESSbMv2Wwpg",
    "outputId": "696c6aa8-538c-4f00-ef97-0b12e386e66c"
   },
   "outputs": [
    {
     "data": {
      "text/plain": [
       "4751577"
      ]
     },
     "execution_count": 5,
     "metadata": {},
     "output_type": "execute_result"
    }
   ],
   "source": [
    "music_df.count()"
   ]
  },
  {
   "cell_type": "code",
   "execution_count": 7,
   "metadata": {
    "colab": {
     "base_uri": "https://localhost:8080/"
    },
    "id": "Mg-Qx2I0XCwY",
    "outputId": "9f0c323d-ed3f-4c16-ef18-1603c7a73ab5"
   },
   "outputs": [
    {
     "name": "stdout",
     "output_type": "stream",
     "text": [
      "+--------------+-----------+----------+--------------+-----------+\n",
      "|     review_id|customer_id|product_id|product_parent|review_date|\n",
      "+--------------+-----------+----------+--------------+-----------+\n",
      "|R3LI5TRP3YIDQL|   10140119|B00TXH4OLC|     384427924| 2015-08-31|\n",
      "|R3LGC3EKEG84PX|   27664622|B00B6QXN6U|     831769051| 2015-08-31|\n",
      "| R9PYL3OYH55QY|   45946560|B001GCZXW6|      14067376| 2015-08-31|\n",
      "|R3PWBAWUS4NT0Q|   15146326|B000003EK6|     566295619| 2015-08-31|\n",
      "|R15LYP3O51UU9E|   16794688|B00N1F0BKK|     210426072| 2015-08-31|\n",
      "|R1AD7L0CC3DSRI|   32203364|B00V7KAO7Q|     360249504| 2015-08-31|\n",
      "|R32FE8Y45QV434|    1194276|B000094Q4P|      20972283| 2015-08-31|\n",
      "|R3NM4MZ4XWL43Q|   45813052|B00JMK0P1I|     378049560| 2015-08-31|\n",
      "|R3H4FXX6Q7I37D|   12795687|B008OW1S3O|     141620702| 2015-08-31|\n",
      "|R30L5PET7LFFDC|   36673840|B00VI2L3L4|     920557135| 2015-08-31|\n",
      "|  REFRE1LEKLAF|   49453576|B0000041EV|     683128964| 2015-08-31|\n",
      "|R3JTJ5EQN74E9H|    3285047|B00005YW4H|     268461622| 2015-08-31|\n",
      "|R1W2F091LCOAW5|   24471201|B00Q9KEZV0|     444090572| 2015-08-31|\n",
      "| RYUMFQRRB1FNM|   28049396|B00GFXRKHW|     482597726| 2015-08-31|\n",
      "| RHCS6VVXWV3Q3|   41137196|B004L3AQ10|     609457123| 2015-08-31|\n",
      "|R35UL1YZ2142SL|   43305401|B0000025PM|     125399885| 2015-08-31|\n",
      "|  RU1O6QD1LEBB|   50808489|B00701QUN8|     144457491| 2015-08-31|\n",
      "|R36RXVL3XIZFH7|   15536614|B003UJC2QI|     207971309| 2015-08-31|\n",
      "|R16O7SHYHLEYA1|   32536909|B00LGA16J2|     760666287| 2015-08-31|\n",
      "|R1Y5GX65Z2V9BG|   51160312|B00ZGVMLLE|      37408836| 2015-08-31|\n",
      "+--------------+-----------+----------+--------------+-----------+\n",
      "only showing top 20 rows\n",
      "\n"
     ]
    }
   ],
   "source": [
    "from pyspark.sql.functions import to_date\n",
    "# Review DataFrame\n",
    "review_id_df = music_df.select([\"review_id\", \"customer_id\", \"product_id\", \"product_parent\", to_date(\"review_date\", 'yyyy-MM-dd').alias(\"review_date\")])\n",
    "review_id_df.show()"
   ]
  },
  {
   "cell_type": "code",
   "execution_count": 11,
   "metadata": {
    "colab": {
     "base_uri": "https://localhost:8080/"
    },
    "id": "BM0bFsS28YpV",
    "outputId": "adc77981-71c3-4810-f2a7-00124b33ceec"
   },
   "outputs": [
    {
     "data": {
      "text/plain": [
       "4751577"
      ]
     },
     "execution_count": 11,
     "metadata": {},
     "output_type": "execute_result"
    }
   ],
   "source": [
    "review_id_df.count()"
   ]
  },
  {
   "cell_type": "code",
   "execution_count": 8,
   "metadata": {
    "id": "81bKgKFl7p3t"
   },
   "outputs": [],
   "source": [
    "# drop the duplicates\n",
    "products_df = music_df.select([\"product_id\", \"product_title\"]).drop_duplicates()"
   ]
  },
  {
   "cell_type": "code",
   "execution_count": 9,
   "metadata": {
    "colab": {
     "base_uri": "https://localhost:8080/"
    },
    "id": "fwzVl-Rt7x72",
    "outputId": "2af2b9c5-879e-40bb-c270-2cd492045307"
   },
   "outputs": [
    {
     "name": "stdout",
     "output_type": "stream",
     "text": [
      "+----------+--------------------+\n",
      "|product_id|       product_title|\n",
      "+----------+--------------------+\n",
      "|B001FOJ76S|         The Promise|\n",
      "|B000NJWSE4|                Free|\n",
      "|B00002CF4Z|The Best of Steve...|\n",
      "|B000CQM4T2|        Live Trucker|\n",
      "|B000002QG8|            Float On|\n",
      "|B003JYOFIW|Something for Eve...|\n",
      "|B004MY64NM|             Manhole|\n",
      "|B007I8TCD8|           Do Things|\n",
      "|B001CY2ELQ|               Lenka|\n",
      "|B00BQ1DBH6|The Best From The...|\n",
      "|B00VXGTJMU|   Django and Jimmie|\n",
      "|B00MI9OZ0W|BAYONETTA 2 Origi...|\n",
      "|B003DC881A|   Chamberlain Waits|\n",
      "|B000003MZG|            Africano|\n",
      "|B00005QIUW|Christmas Through...|\n",
      "|B000WSTAEC|Haendel: La Passi...|\n",
      "|B002PXJZIS|Dont Stop Believi...|\n",
      "|B00U646N7E|Directions Home (...|\n",
      "|B0007MR1L2|Hummel: Septet, O...|\n",
      "|B00AK77XUS|     The Flower Lane|\n",
      "+----------+--------------------+\n",
      "only showing top 20 rows\n",
      "\n"
     ]
    }
   ],
   "source": [
    "products_df.show()"
   ]
  },
  {
   "cell_type": "code",
   "execution_count": 12,
   "metadata": {
    "colab": {
     "base_uri": "https://localhost:8080/"
    },
    "id": "MagzTL1f8l9X",
    "outputId": "8456c44d-a40f-4cb0-a3fd-7c79ba375a8a"
   },
   "outputs": [
    {
     "data": {
      "text/plain": [
       "782353"
      ]
     },
     "execution_count": 12,
     "metadata": {},
     "output_type": "execute_result"
    }
   ],
   "source": [
    "products_df.count()"
   ]
  },
  {
   "cell_type": "code",
   "execution_count": 10,
   "metadata": {
    "colab": {
     "base_uri": "https://localhost:8080/"
    },
    "id": "VJLqmlP58DDH",
    "outputId": "f86b9cc0-4a9d-41db-ad08-ddb508fa6744"
   },
   "outputs": [
    {
     "name": "stdout",
     "output_type": "stream",
     "text": [
      "+-----------+--------------+\n",
      "|customer_id|customer_count|\n",
      "+-----------+--------------+\n",
      "|     651796|             2|\n",
      "|   44979559|             1|\n",
      "|   45632184|             1|\n",
      "|   15232809|             1|\n",
      "|   17067926|             1|\n",
      "|   26163929|             1|\n",
      "|   20587872|             2|\n",
      "|   14230926|             3|\n",
      "|   52081222|             2|\n",
      "|   13382150|             1|\n",
      "+-----------+--------------+\n",
      "only showing top 10 rows\n",
      "\n"
     ]
    }
   ],
   "source": [
    "# group customer id by customer count\n",
    "customer_df=music_df.groupBy(\"customer_id\").count().withColumnRenamed(\"count\",\"customer_count\")\n",
    "customer_df.show(10)"
   ]
  },
  {
   "cell_type": "code",
   "execution_count": 13,
   "metadata": {
    "colab": {
     "base_uri": "https://localhost:8080/"
    },
    "id": "39aX6AB181na",
    "outputId": "d2fda153-89b3-4634-e8f1-a9e26241d743"
   },
   "outputs": [
    {
     "data": {
      "text/plain": [
       "1940732"
      ]
     },
     "execution_count": 13,
     "metadata": {},
     "output_type": "execute_result"
    }
   ],
   "source": [
    "customer_df.count()"
   ]
  },
  {
   "cell_type": "code",
   "execution_count": 14,
   "metadata": {
    "colab": {
     "base_uri": "https://localhost:8080/"
    },
    "id": "e8LAkSE99HGR",
    "outputId": "711d439d-b53d-4128-cb72-2c74cad682e0"
   },
   "outputs": [
    {
     "name": "stdout",
     "output_type": "stream",
     "text": [
      "+--------------+-----------+-------------+-----------+----+\n",
      "|     review_id|star_rating|helpful_votes|total_votes|vine|\n",
      "+--------------+-----------+-------------+-----------+----+\n",
      "|R3LI5TRP3YIDQL|          5|            0|          0|   N|\n",
      "|R3LGC3EKEG84PX|          5|            0|          0|   N|\n",
      "| R9PYL3OYH55QY|          5|            0|          1|   N|\n",
      "|R3PWBAWUS4NT0Q|          3|            0|          0|   N|\n",
      "|R15LYP3O51UU9E|          5|            0|          0|   N|\n",
      "|R1AD7L0CC3DSRI|          5|            0|          0|   N|\n",
      "|R32FE8Y45QV434|          5|            0|          0|   N|\n",
      "|R3NM4MZ4XWL43Q|          5|            1|          2|   N|\n",
      "|R3H4FXX6Q7I37D|          4|            0|          0|   N|\n",
      "|R30L5PET7LFFDC|          5|            1|          1|   N|\n",
      "+--------------+-----------+-------------+-----------+----+\n",
      "only showing top 10 rows\n",
      "\n"
     ]
    }
   ],
   "source": [
    "# select columns from vine_df\n",
    "vine_df=music_df.select([\"review_id\",\"star_rating\",\"helpful_votes\",\"total_votes\",\"vine\"])\n",
    "vine_df.show(10)"
   ]
  },
  {
   "cell_type": "code",
   "execution_count": 15,
   "metadata": {
    "colab": {
     "base_uri": "https://localhost:8080/"
    },
    "id": "9URAXF8L9UgR",
    "outputId": "9d7544c6-d768-4aeb-c6cb-e2738e2f1b4d"
   },
   "outputs": [
    {
     "data": {
      "text/plain": [
       "4751577"
      ]
     },
     "execution_count": 15,
     "metadata": {},
     "output_type": "execute_result"
    }
   ],
   "source": [
    "vine_df.count()"
   ]
  },
  {
   "cell_type": "markdown",
   "metadata": {
    "id": "UqE5mZgc9qoH"
   },
   "source": [
    "**Write Data to AWS RDS Instance**"
   ]
  },
  {
   "cell_type": "code",
   "execution_count": 16,
   "metadata": {
    "id": "yb2RhjrB9p23"
   },
   "outputs": [],
   "source": [
    "# set up properties to connect to AWS Postgres\n",
    "mode = \"append\"\n",
    "jdbc_url=\"jdbc:postgresql://mypostgresdb.cykufjcvydqa.us-east-2.rds.amazonaws.com:5432/ProductReviewsDB\"\n",
    "config = {\"user\":\"postgres\", \"password\": \"\", \"driver\":\"org.postgresql.Driver\"}"
   ]
  },
  {
   "cell_type": "code",
   "execution_count": 17,
   "metadata": {
    "id": "IFJzXDVi95xb"
   },
   "outputs": [],
   "source": [
    "# Write review_id_df to table in RDS\n",
    "review_id_df.write.jdbc(url=jdbc_url, table='review_id_table', mode=mode, properties=config)"
   ]
  },
  {
   "cell_type": "code",
   "execution_count": 19,
   "metadata": {
    "id": "RyQmN4V0EwQJ"
   },
   "outputs": [],
   "source": [
    "# Write products_df to table in RDS\n",
    "products_df.write.jdbc(url=jdbc_url, table='products', mode=\"overwrite\", properties=config)"
   ]
  },
  {
   "cell_type": "code",
   "execution_count": 21,
   "metadata": {
    "id": "7CkWEFySExNN"
   },
   "outputs": [],
   "source": [
    "# Write customers_df to table in RDS\n",
    "customer_df.write.jdbc(url=jdbc_url, table='customers', mode=\"overwrite\", properties=config)"
   ]
  },
  {
   "cell_type": "code",
   "execution_count": null,
   "metadata": {
    "id": "ZzhvgHOSEzMt"
   },
   "outputs": [],
   "source": [
    "# Write vine_df to table in RDS\n",
    "vine_df.write.jdbc(url=jdbc_url, table='vine_table', mode=mode, properties=config)"
   ]
  }
 ],
 "metadata": {
  "colab": {
   "collapsed_sections": [],
   "name": "level_one_starterfile2_working.ipynb",
   "provenance": []
  },
  "kernelspec": {
   "display_name": "Python 3",
   "language": "python",
   "name": "python3"
  },
  "language_info": {
   "codemirror_mode": {
    "name": "ipython",
    "version": 3
   },
   "file_extension": ".py",
   "mimetype": "text/x-python",
   "name": "python",
   "nbconvert_exporter": "python",
   "pygments_lexer": "ipython3",
   "version": "3.8.2"
  }
 },
 "nbformat": 4,
 "nbformat_minor": 1
}
